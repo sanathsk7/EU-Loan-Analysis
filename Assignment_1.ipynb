{
 "cells": [
  {
   "cell_type": "markdown",
   "metadata": {},
   "source": [
    "# Assignment 1"
   ]
  },
  {
   "cell_type": "code",
   "execution_count": null,
   "metadata": {
    "collapsed": true
   },
   "outputs": [],
   "source": [
    "#Author-> Sanath Shivaswamy\n",
    "#ID -> W1166731"
   ]
  },
  {
   "cell_type": "code",
   "execution_count": 2,
   "metadata": {
    "collapsed": true
   },
   "outputs": [],
   "source": [
    "import pandas as pd"
   ]
  },
  {
   "cell_type": "code",
   "execution_count": 3,
   "metadata": {
    "collapsed": true
   },
   "outputs": [],
   "source": [
    "df = pd.read_csv(\"data/eu_revolving_loans.csv\", \n",
    "                 header=[1,2,3], index_col=0, skiprows=1, na_values=['-'])"
   ]
  },
  {
   "cell_type": "code",
   "execution_count": 4,
   "metadata": {
    "collapsed": false
   },
   "outputs": [
    {
     "data": {
      "text/html": [
       "<div>\n",
       "<table border=\"1\" class=\"dataframe\">\n",
       "  <thead>\n",
       "    <tr style=\"text-align: right;\">\n",
       "      <th></th>\n",
       "      <th>Austria</th>\n",
       "      <th>Belgium</th>\n",
       "      <th>Cyprus</th>\n",
       "      <th>Germany</th>\n",
       "      <th>Estonia</th>\n",
       "      <th>Spain</th>\n",
       "      <th>Finland</th>\n",
       "      <th>France</th>\n",
       "      <th>Greece (GR)</th>\n",
       "      <th>Ireland</th>\n",
       "      <th>Italy</th>\n",
       "      <th>Lithuania</th>\n",
       "      <th>Luxembourg</th>\n",
       "      <th>Latvia</th>\n",
       "      <th>Malta</th>\n",
       "      <th>Netherlands</th>\n",
       "      <th>Portugal</th>\n",
       "      <th>Slovenia</th>\n",
       "      <th>Slovakia</th>\n",
       "      <th>Euro area (changing composition)</th>\n",
       "    </tr>\n",
       "  </thead>\n",
       "  <tbody>\n",
       "    <tr>\n",
       "      <th>2016Feb</th>\n",
       "      <td>4.20</td>\n",
       "      <td>8.09</td>\n",
       "      <td>6.13</td>\n",
       "      <td>8.85</td>\n",
       "      <td>16.38</td>\n",
       "      <td>11.03</td>\n",
       "      <td>6.41</td>\n",
       "      <td>6.00</td>\n",
       "      <td>8.18</td>\n",
       "      <td>10.40</td>\n",
       "      <td>6.07</td>\n",
       "      <td>9.60</td>\n",
       "      <td>7.24</td>\n",
       "      <td>21.58</td>\n",
       "      <td>6.79</td>\n",
       "      <td>5.83</td>\n",
       "      <td>15.28</td>\n",
       "      <td>6.80</td>\n",
       "      <td>13.86</td>\n",
       "      <td>7.36</td>\n",
       "    </tr>\n",
       "    <tr>\n",
       "      <th>2016Jan</th>\n",
       "      <td>4.17</td>\n",
       "      <td>8.05</td>\n",
       "      <td>6.13</td>\n",
       "      <td>8.83</td>\n",
       "      <td>16.41</td>\n",
       "      <td>10.85</td>\n",
       "      <td>6.44</td>\n",
       "      <td>6.10</td>\n",
       "      <td>8.19</td>\n",
       "      <td>9.91</td>\n",
       "      <td>6.07</td>\n",
       "      <td>9.58</td>\n",
       "      <td>7.10</td>\n",
       "      <td>21.51</td>\n",
       "      <td>6.82</td>\n",
       "      <td>5.81</td>\n",
       "      <td>15.41</td>\n",
       "      <td>6.79</td>\n",
       "      <td>13.97</td>\n",
       "      <td>7.35</td>\n",
       "    </tr>\n",
       "    <tr>\n",
       "      <th>2015Dec</th>\n",
       "      <td>3.99</td>\n",
       "      <td>8.21</td>\n",
       "      <td>6.16</td>\n",
       "      <td>8.69</td>\n",
       "      <td>16.32</td>\n",
       "      <td>10.49</td>\n",
       "      <td>6.40</td>\n",
       "      <td>5.86</td>\n",
       "      <td>8.22</td>\n",
       "      <td>10.37</td>\n",
       "      <td>5.91</td>\n",
       "      <td>9.45</td>\n",
       "      <td>6.96</td>\n",
       "      <td>21.59</td>\n",
       "      <td>6.84</td>\n",
       "      <td>5.88</td>\n",
       "      <td>15.16</td>\n",
       "      <td>6.65</td>\n",
       "      <td>13.72</td>\n",
       "      <td>7.23</td>\n",
       "    </tr>\n",
       "    <tr>\n",
       "      <th>2015Nov</th>\n",
       "      <td>4.09</td>\n",
       "      <td>8.20</td>\n",
       "      <td>6.15</td>\n",
       "      <td>8.82</td>\n",
       "      <td>16.37</td>\n",
       "      <td>10.73</td>\n",
       "      <td>6.49</td>\n",
       "      <td>6.18</td>\n",
       "      <td>8.30</td>\n",
       "      <td>9.11</td>\n",
       "      <td>6.12</td>\n",
       "      <td>9.53</td>\n",
       "      <td>6.88</td>\n",
       "      <td>21.67</td>\n",
       "      <td>6.78</td>\n",
       "      <td>5.97</td>\n",
       "      <td>15.32</td>\n",
       "      <td>6.79</td>\n",
       "      <td>14.10</td>\n",
       "      <td>7.37</td>\n",
       "    </tr>\n",
       "    <tr>\n",
       "      <th>2015Oct</th>\n",
       "      <td>4.10</td>\n",
       "      <td>8.40</td>\n",
       "      <td>6.16</td>\n",
       "      <td>8.89</td>\n",
       "      <td>16.42</td>\n",
       "      <td>10.86</td>\n",
       "      <td>6.52</td>\n",
       "      <td>6.15</td>\n",
       "      <td>8.34</td>\n",
       "      <td>9.29</td>\n",
       "      <td>6.11</td>\n",
       "      <td>9.40</td>\n",
       "      <td>7.08</td>\n",
       "      <td>21.74</td>\n",
       "      <td>6.78</td>\n",
       "      <td>5.93</td>\n",
       "      <td>15.55</td>\n",
       "      <td>6.74</td>\n",
       "      <td>14.12</td>\n",
       "      <td>7.41</td>\n",
       "    </tr>\n",
       "  </tbody>\n",
       "</table>\n",
       "</div>"
      ],
      "text/plain": [
       "         Austria  Belgium  Cyprus  Germany  Estonia  Spain  Finland  France  \\\n",
       "2016Feb     4.20     8.09    6.13     8.85    16.38  11.03     6.41    6.00   \n",
       "2016Jan     4.17     8.05    6.13     8.83    16.41  10.85     6.44    6.10   \n",
       "2015Dec     3.99     8.21    6.16     8.69    16.32  10.49     6.40    5.86   \n",
       "2015Nov     4.09     8.20    6.15     8.82    16.37  10.73     6.49    6.18   \n",
       "2015Oct     4.10     8.40    6.16     8.89    16.42  10.86     6.52    6.15   \n",
       "\n",
       "         Greece (GR)  Ireland  Italy  Lithuania  Luxembourg  Latvia  Malta  \\\n",
       "2016Feb         8.18    10.40   6.07       9.60        7.24   21.58   6.79   \n",
       "2016Jan         8.19     9.91   6.07       9.58        7.10   21.51   6.82   \n",
       "2015Dec         8.22    10.37   5.91       9.45        6.96   21.59   6.84   \n",
       "2015Nov         8.30     9.11   6.12       9.53        6.88   21.67   6.78   \n",
       "2015Oct         8.34     9.29   6.11       9.40        7.08   21.74   6.78   \n",
       "\n",
       "         Netherlands  Portugal  Slovenia  Slovakia  \\\n",
       "2016Feb         5.83     15.28      6.80     13.86   \n",
       "2016Jan         5.81     15.41      6.79     13.97   \n",
       "2015Dec         5.88     15.16      6.65     13.72   \n",
       "2015Nov         5.97     15.32      6.79     14.10   \n",
       "2015Oct         5.93     15.55      6.74     14.12   \n",
       "\n",
       "         Euro area (changing composition)  \n",
       "2016Feb                              7.36  \n",
       "2016Jan                              7.35  \n",
       "2015Dec                              7.23  \n",
       "2015Nov                              7.37  \n",
       "2015Oct                              7.41  "
      ]
     },
     "execution_count": 4,
     "metadata": {},
     "output_type": "execute_result"
    }
   ],
   "source": [
    "df.columns = df.columns.droplevel(1)\n",
    "df.columns = df.columns.droplevel(1)\n",
    "df.head()"
   ]
  },
  {
   "cell_type": "markdown",
   "metadata": {},
   "source": [
    "### 1) Which EU Country has the largest revolving loan % increase from 2000 – 2016?"
   ]
  },
  {
   "cell_type": "code",
   "execution_count": 6,
   "metadata": {
    "collapsed": false,
    "scrolled": true
   },
   "outputs": [
    {
     "name": "stdout",
     "output_type": "stream",
     "text": [
      "Austria  =  -0.524348810872\n",
      "Belgium  =  -0.191808191808\n",
      "Cyprus  =  -0.128022759602\n",
      "Germany  =  -0.0978593272171\n",
      "Estonia  =  0.836322869955\n",
      "Spain  =  -0.148919753086\n",
      "Finland  =  -0.376459143969\n",
      "France  =  -0.450045829514\n",
      "Greece (GR)  =  -0.621646623497\n",
      "Ireland  =  -0.169992019154\n",
      "Italy  =  -0.316441441441\n",
      "Lithuania  =  0.149700598802\n",
      "Luxembourg  =  0.138364779874\n",
      "Latvia  =  1.77734877735\n",
      "Malta  =  -0.0355113636364\n",
      "Netherlands  =  -0.216397849462\n",
      "Portugal  =  0.697777777778\n",
      "Slovenia  =  0.6\n",
      "Slovakia  =  0.935754189944\n",
      "Euro area (changing composition)  =  -0.2625250501\n"
     ]
    }
   ],
   "source": [
    "### Largest Percent Increase -> Latvia\n",
    "for country in df: #Looping through each country\n",
    "    df_temp = df[country].dropna() #drop NaN values for that country\n",
    "    percent_increase = (df_temp.iloc[0] - df_temp.iloc[-1]) / df_temp.iloc[-1] \n",
    "    print country,\" = \", percent_increase"
   ]
  },
  {
   "cell_type": "markdown",
   "metadata": {},
   "source": [
    "### 2) Which EU Country has the largest revolving loan % decrease from 2000 – 2016?"
   ]
  },
  {
   "cell_type": "code",
   "execution_count": 8,
   "metadata": {
    "collapsed": false
   },
   "outputs": [
    {
     "name": "stdout",
     "output_type": "stream",
     "text": [
      "Austria  =  0.524348810872\n",
      "Belgium  =  0.191808191808\n",
      "Cyprus  =  0.128022759602\n",
      "Germany  =  0.0978593272171\n",
      "Estonia  =  -0.836322869955\n",
      "Spain  =  0.148919753086\n",
      "Finland  =  0.376459143969\n",
      "France  =  0.450045829514\n",
      "Greece (GR)  =  0.621646623497\n",
      "Ireland  =  0.169992019154\n",
      "Italy  =  0.316441441441\n",
      "Lithuania  =  -0.149700598802\n",
      "Luxembourg  =  -0.138364779874\n",
      "Latvia  =  -1.77734877735\n",
      "Malta  =  0.0355113636364\n",
      "Netherlands  =  0.216397849462\n",
      "Portugal  =  -0.697777777778\n",
      "Slovenia  =  -0.6\n",
      "Slovakia  =  -0.935754189944\n",
      "Euro area (changing composition)  =  0.2625250501\n"
     ]
    }
   ],
   "source": [
    "### Largest Percent Decrease -> Greece\n",
    "for country in df: #Looping through each country\n",
    "    df_temp = df[country].dropna() #drop NaN values for that country\n",
    "    percent_decrease = (df_temp.iloc[-1] - df_temp.iloc[0]) / df_temp.iloc[-1]\n",
    "    print country,\" = \", percent_decrease"
   ]
  },
  {
   "cell_type": "markdown",
   "metadata": {},
   "source": [
    "### 3) Qualitatively describe in 5 sentences or less why these 2 countries may be seen these big changes during this period."
   ]
  },
  {
   "cell_type": "markdown",
   "metadata": {},
   "source": [
    "a) Latvia: After a deep recession that originated in the wake of the global financial crisis, Latvia’s GDP grew 4.7% in 2011-2013 on average, making Latvia one of the fastest growing economies in the EU. Economic growth was above 2% in 2014 – 2015 (2.4 % in 2014 and 2.3 % in the 1st half of 2015). Economic activity has been mainly driven by private \n",
    "consumption and exports with limited contribution from investment. Inflation has stabilized since 2009, which is  important given Latvia’s joining the euro in January 2014.(There is big increase in latvia's revolving loans from 2014). Inflation has remained low (0% in 2013; 0.6% in 2014 and 0.5% in August 2015) due to global commodity price \n",
    "developments that outweighed influence of growing income. Unemployment has decreased to 9.8% in the 2nd Q of 2015, which is higher than the 7.7% level in 2008."
   ]
  },
  {
   "cell_type": "markdown",
   "metadata": {},
   "source": [
    "b) Greece: Greece revolving loan % is gradually decreasing since 2000. Greece’s economy was never strong enough to share a currency with Germany’s. Reckless lending by French and German banks allowed the Greeks to finance widening budget and current account deficits for six years, but private capital flows dried up sharply after the 2008 crisis, \n",
    "forcing Greece to seek help from Eurozone governments and the International Monetary Fund in 2010. All that was 6 years ago, but Greece has not managed to turn the corner since then, when every other Eurozone country that took a bailout has. The primary reason for this is that Greece was the first country to ask for help, and the Eurozone was totally unprepared for it on all levels. The bailout was badly conceived, focusing too much on the budget balance and not enough on fixing Greece’s uniquely dysfunctional state apparatus. In a normal recession, government spending can offset the negative effects of private demand contracting, but in this case, the budgetary austerity drove Greece into a vicious spiral. The economy contracted by 25% between 2010 and 2014, fatally weakening Greece’s ability ever to repay its debts."
   ]
  }
 ],
 "metadata": {
  "kernelspec": {
   "display_name": "Python 2",
   "language": "python",
   "name": "python2"
  },
  "language_info": {
   "codemirror_mode": {
    "name": "ipython",
    "version": 2
   },
   "file_extension": ".py",
   "mimetype": "text/x-python",
   "name": "python",
   "nbconvert_exporter": "python",
   "pygments_lexer": "ipython2",
   "version": "2.7.10"
  }
 },
 "nbformat": 4,
 "nbformat_minor": 1
}
